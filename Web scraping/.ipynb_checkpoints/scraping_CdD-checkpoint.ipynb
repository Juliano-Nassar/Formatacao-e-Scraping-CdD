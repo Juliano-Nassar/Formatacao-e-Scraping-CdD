{
 "cells": [
  {
   "cell_type": "code",
   "execution_count": 10,
   "metadata": {},
   "outputs": [],
   "source": [
    "from selenium import webdriver\n",
    "import time"
   ]
  },
  {
   "cell_type": "code",
   "execution_count": 50,
   "metadata": {},
   "outputs": [],
   "source": [
    "chaves = ['Saúde Pública','Sistema Único de Saúde']\n",
    "\n",
    "data_inicial = '01072020'\n",
    "data_final = '01012010'\n",
    "\n",
    "botoes = ['PLP\\ \\ \\ \\ \\ \\ \\ \\ -\\ Projeto\\ de\\ Lei\\ Complementar',\n",
    "          'PEC\\ \\ \\ \\ \\ \\ \\ \\ -\\ Proposta\\ de\\ Emenda\\ à\\ Constituição',\n",
    "          'PL\\ \\ \\ \\ \\ \\ \\ \\ \\ -\\ Projeto\\ de\\ Lei']\n",
    "\n",
    "em_tramitacao = 'Sim'"
   ]
  },
  {
   "cell_type": "code",
   "execution_count": 55,
   "metadata": {},
   "outputs": [
    {
     "name": "stdout",
     "output_type": "stream",
     "text": [
      "erro\n"
     ]
    }
   ],
   "source": [
    "driver = webdriver.Chrome()\n",
    "try:\n",
    "    driver.get('https://www.camara.leg.br/buscaProposicoesWeb/pesquisaAvancada')\n",
    "    #for bot in botoes:\n",
    "    #    botao = driver.find_element_by_id(bot)\n",
    "    #    botao.click()\n",
    "    #is_tram_yes = driver.find_element_by_xpath('/html/body/div[1]/div[2]/div/div/div/div[2]/div/div/div/div/form/fieldset[2]/fieldset/ul/li[2]/input')\n",
    "    #is_tram_yes.click()\n",
    "        \n",
    "    time.sleep(3)\n",
    "except:\n",
    "    print('erro')\n",
    "finally:\n",
    "    driver.close()"
   ]
  },
  {
   "cell_type": "code",
   "execution_count": null,
   "metadata": {},
   "outputs": [],
   "source": []
  },
  {
   "cell_type": "code",
   "execution_count": null,
   "metadata": {},
   "outputs": [],
   "source": []
  }
 ],
 "metadata": {
  "kernelspec": {
   "display_name": "Python 3",
   "language": "python",
   "name": "python3"
  },
  "language_info": {
   "codemirror_mode": {
    "name": "ipython",
    "version": 3
   },
   "file_extension": ".py",
   "mimetype": "text/x-python",
   "name": "python",
   "nbconvert_exporter": "python",
   "pygments_lexer": "ipython3",
   "version": "3.8.3"
  }
 },
 "nbformat": 4,
 "nbformat_minor": 4
}
