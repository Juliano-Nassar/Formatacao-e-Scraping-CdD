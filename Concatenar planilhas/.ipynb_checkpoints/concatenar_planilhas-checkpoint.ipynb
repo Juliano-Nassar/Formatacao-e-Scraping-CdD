{
 "cells": [
  {
   "cell_type": "markdown",
   "metadata": {},
   "source": [
    "# Concatenação e formatação de informações de diferentes chaves de pesquisa\n",
    "<p>Código desenvolvido para juntar e formatar as informações das diferentes chaves de pesquisa utilizadas no TCC de Thais Cardoso Barbosa. Foi feita a junçao das planilhas e todas proposições duplicadas foram retiradas.</p>\n",
    "<p></p>"
   ]
  },
  {
   "cell_type": "code",
   "execution_count": 100,
   "metadata": {},
   "outputs": [],
   "source": [
    "# Importa as bibliotecas\n",
    "import pandas as pd\n",
    "import os"
   ]
  },
  {
   "cell_type": "code",
   "execution_count": 101,
   "metadata": {},
   "outputs": [],
   "source": [
    "# Pasta onde os arquivos estão contidos\n",
    "pasta = 'Arquivos/'\n",
    "dfs_list = []\n",
    "# Dados irrelevantes para o projeto\n",
    "trash = ['Fonte:','Data/Ho','Total de ']\n",
    "# Lista de arquivos dentro da pasta\n",
    "files = os.listdir(pasta)\n",
    "# Abre cada arquivo na pasta e salva as informações deles em um lista\n",
    "for file in files:\n",
    "    df = pd.read_csv(pasta+file,sep=';',header=2,encoding='latin')\n",
    "    df = df[~df['Proposições'].isin(trash)]\n",
    "    dfs_list.append(df[['Proposições','Autor','Apresentaç']])"
   ]
  },
  {
   "cell_type": "code",
   "execution_count": 102,
   "metadata": {},
   "outputs": [],
   "source": [
    "# Puxa arquivos com formatações diferentes e salva em uma lista extra\n",
    "extra = []\n",
    "extra_files = ['saude_publica.csv','SUS.csv']\n",
    "for file in extra_files:\n",
    "    df = pd.read_csv(file,sep=';',encoding='latin')\n",
    "    extra.append(df.drop('Unnamed: 0',axis=1))"
   ]
  },
  {
   "cell_type": "code",
   "execution_count": 103,
   "metadata": {},
   "outputs": [],
   "source": [
    "# Junta todos arquivos em uma grande planlha\n",
    "full_df = pd.concat(dfs_list+extra)"
   ]
  },
  {
   "cell_type": "code",
   "execution_count": 104,
   "metadata": {},
   "outputs": [
    {
     "data": {
      "text/plain": [
       "(10909, 3)"
      ]
     },
     "execution_count": 104,
     "metadata": {},
     "output_type": "execute_result"
    }
   ],
   "source": [
    "# Checa o tamanho da planilha antes de retirar as duplicatas\n",
    "full_df.shape"
   ]
  },
  {
   "cell_type": "code",
   "execution_count": 105,
   "metadata": {},
   "outputs": [
    {
     "data": {
      "text/html": [
       "<div>\n",
       "<style scoped>\n",
       "    .dataframe tbody tr th:only-of-type {\n",
       "        vertical-align: middle;\n",
       "    }\n",
       "\n",
       "    .dataframe tbody tr th {\n",
       "        vertical-align: top;\n",
       "    }\n",
       "\n",
       "    .dataframe thead th {\n",
       "        text-align: right;\n",
       "    }\n",
       "</style>\n",
       "<table border=\"1\" class=\"dataframe\">\n",
       "  <thead>\n",
       "    <tr style=\"text-align: right;\">\n",
       "      <th></th>\n",
       "      <th>Proposições</th>\n",
       "      <th>Autor</th>\n",
       "      <th>Apresentaç</th>\n",
       "    </tr>\n",
       "  </thead>\n",
       "  <tbody>\n",
       "    <tr>\n",
       "      <th>0</th>\n",
       "      <td>PL 5307/2019</td>\n",
       "      <td>Domingos Sávio</td>\n",
       "      <td>01/10/2019</td>\n",
       "    </tr>\n",
       "    <tr>\n",
       "      <th>1</th>\n",
       "      <td>PL 3391/2019</td>\n",
       "      <td>Fábio Faria</td>\n",
       "      <td>06/06/2019</td>\n",
       "    </tr>\n",
       "    <tr>\n",
       "      <th>2</th>\n",
       "      <td>PL 1545/2011</td>\n",
       "      <td>Eduardo Cunha</td>\n",
       "      <td>08/06/2011</td>\n",
       "    </tr>\n",
       "    <tr>\n",
       "      <th>3</th>\n",
       "      <td>RIC 675/2020</td>\n",
       "      <td>Fernanda Melchionna</td>\n",
       "      <td>18/06/2020</td>\n",
       "    </tr>\n",
       "    <tr>\n",
       "      <th>4</th>\n",
       "      <td>PL 2893/2019</td>\n",
       "      <td>Chris Tonietto;Filipe Barros</td>\n",
       "      <td>15/05/2019</td>\n",
       "    </tr>\n",
       "    <tr>\n",
       "      <th>...</th>\n",
       "      <td>...</td>\n",
       "      <td>...</td>\n",
       "      <td>...</td>\n",
       "    </tr>\n",
       "    <tr>\n",
       "      <th>7392</th>\n",
       "      <td>PL 9917/2018</td>\n",
       "      <td>Rômulo Gouveia - PSD/PB</td>\n",
       "      <td>03/04/2018</td>\n",
       "    </tr>\n",
       "    <tr>\n",
       "      <th>7393</th>\n",
       "      <td>PL 6756/2010</td>\n",
       "      <td>Senado Federal - Expedito Júnior - PSDB/RO</td>\n",
       "      <td>05/02/2010</td>\n",
       "    </tr>\n",
       "    <tr>\n",
       "      <th>7394</th>\n",
       "      <td>PL 1118/2011</td>\n",
       "      <td>Eduardo Barbosa - PSDB/MG</td>\n",
       "      <td>19/04/2011</td>\n",
       "    </tr>\n",
       "    <tr>\n",
       "      <th>7395</th>\n",
       "      <td>PL 1058/2015</td>\n",
       "      <td>Goulart - PSD/SP</td>\n",
       "      <td>08/04/2015</td>\n",
       "    </tr>\n",
       "    <tr>\n",
       "      <th>7396</th>\n",
       "      <td>PL 906/2015</td>\n",
       "      <td>Padre João - PT/MG</td>\n",
       "      <td>25/03/2015</td>\n",
       "    </tr>\n",
       "  </tbody>\n",
       "</table>\n",
       "<p>7397 rows × 3 columns</p>\n",
       "</div>"
      ],
      "text/plain": [
       "       Proposições                                       Autor  Apresentaç\n",
       "0     PL 5307/2019                              Domingos Sávio  01/10/2019\n",
       "1     PL 3391/2019                                 Fábio Faria  06/06/2019\n",
       "2     PL 1545/2011                               Eduardo Cunha  08/06/2011\n",
       "3     RIC 675/2020                         Fernanda Melchionna  18/06/2020\n",
       "4     PL 2893/2019                Chris Tonietto;Filipe Barros  15/05/2019\n",
       "...            ...                                         ...         ...\n",
       "7392  PL 9917/2018                     Rômulo Gouveia - PSD/PB  03/04/2018\n",
       "7393  PL 6756/2010  Senado Federal - Expedito Júnior - PSDB/RO  05/02/2010\n",
       "7394  PL 1118/2011                   Eduardo Barbosa - PSDB/MG  19/04/2011\n",
       "7395  PL 1058/2015                            Goulart - PSD/SP  08/04/2015\n",
       "7396   PL 906/2015                          Padre João - PT/MG  25/03/2015\n",
       "\n",
       "[7397 rows x 3 columns]"
      ]
     },
     "execution_count": 105,
     "metadata": {},
     "output_type": "execute_result"
    }
   ],
   "source": [
    "# Retira as duplicatas\n",
    "droped_df = full_df.drop_duplicates().reset_index(drop=True)\n",
    "droped_df"
   ]
  },
  {
   "cell_type": "code",
   "execution_count": 106,
   "metadata": {},
   "outputs": [],
   "source": [
    "# Salva a planilha sem duplicatas em um arquivo excel\n",
    "droped_df.to_excel('todas_proposicioes.xlsx')"
   ]
  },
  {
   "cell_type": "code",
   "execution_count": 107,
   "metadata": {},
   "outputs": [
    {
     "data": {
      "text/plain": [
       "3512"
      ]
     },
     "execution_count": 107,
     "metadata": {},
     "output_type": "execute_result"
    }
   ],
   "source": [
    "# Checa quantas linhas duplicadas existiam\n",
    "len(full_df)-len(droped_df)"
   ]
  }
 ],
 "metadata": {
  "kernelspec": {
   "display_name": "Python 3",
   "language": "python",
   "name": "python3"
  },
  "language_info": {
   "codemirror_mode": {
    "name": "ipython",
    "version": 3
   },
   "file_extension": ".py",
   "mimetype": "text/x-python",
   "name": "python",
   "nbconvert_exporter": "python",
   "pygments_lexer": "ipython3",
   "version": "3.8.3"
  }
 },
 "nbformat": 4,
 "nbformat_minor": 4
}
